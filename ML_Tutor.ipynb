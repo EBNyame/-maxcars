{
  "nbformat": 4,
  "nbformat_minor": 0,
  "metadata": {
    "colab": {
      "provenance": [],
      "authorship_tag": "ABX9TyPgYUZkr6WSWWmW9rgPKbP0",
      "include_colab_link": true
    },
    "kernelspec": {
      "name": "python3",
      "display_name": "Python 3"
    },
    "language_info": {
      "name": "python"
    }
  },
  "cells": [
    {
      "cell_type": "markdown",
      "metadata": {
        "id": "view-in-github",
        "colab_type": "text"
      },
      "source": [
        "<a href=\"https://colab.research.google.com/github/EBNyame/-maxcars/blob/master/ML_Tutor.ipynb\" target=\"_parent\"><img src=\"https://colab.research.google.com/assets/colab-badge.svg\" alt=\"Open In Colab\"/></a>"
      ]
    },
    {
      "cell_type": "code",
      "execution_count": 1,
      "metadata": {
        "id": "pIB4X9AsQLcR"
      },
      "outputs": [],
      "source": [
        "import pandas as pd\n"
      ]
    },
    {
      "cell_type": "code",
      "source": [
        "data = {\n",
        "    \"Name\": [\"Exo\", \"Joe\", \"Theo\"],\n",
        "    \"Age\": [22, 33, 44],\n",
        "    \"Score\": [88, 99, 97]\n",
        "}\n",
        "\n",
        "df = pd.DataFrame(data)\n",
        "print(df)"
      ],
      "metadata": {
        "colab": {
          "base_uri": "https://localhost:8080/"
        },
        "id": "tEQo-vNPS5tR",
        "outputId": "1186f2a5-912f-40f2-83b3-2bda44404092"
      },
      "execution_count": 3,
      "outputs": [
        {
          "output_type": "stream",
          "name": "stdout",
          "text": [
            "   Name  Age  Score\n",
            "0   Exo   22     88\n",
            "1   Joe   33     99\n",
            "2  Theo   44     97\n"
          ]
        }
      ]
    },
    {
      "cell_type": "code",
      "source": [
        "print(df.head())"
      ],
      "metadata": {
        "colab": {
          "base_uri": "https://localhost:8080/"
        },
        "id": "8yGiPl1yzeB5",
        "outputId": "2fb24585-9cc9-4249-b8a8-0a329113d95c"
      },
      "execution_count": 4,
      "outputs": [
        {
          "output_type": "stream",
          "name": "stdout",
          "text": [
            "   Name  Age  Score\n",
            "0   Exo   22     88\n",
            "1   Joe   33     99\n",
            "2  Theo   44     97\n"
          ]
        }
      ]
    }
  ]
}